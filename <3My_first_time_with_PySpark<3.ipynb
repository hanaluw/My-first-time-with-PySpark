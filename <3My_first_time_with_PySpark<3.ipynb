{
  "nbformat": 4,
  "nbformat_minor": 0,
  "metadata": {
    "colab": {
      "provenance": [],
      "authorship_tag": "ABX9TyOpP9LoZSst236DREw2v2pX",
      "include_colab_link": true
    },
    "kernelspec": {
      "name": "python3",
      "display_name": "Python 3"
    },
    "language_info": {
      "name": "python"
    }
  },
  "cells": [
    {
      "cell_type": "markdown",
      "metadata": {
        "id": "view-in-github",
        "colab_type": "text"
      },
      "source": [
        "<a href=\"https://colab.research.google.com/github/hanaluw/My-first-time-with-PySpark/blob/main/%3C3My_first_time_with_PySpark%3C3.ipynb\" target=\"_parent\"><img src=\"https://colab.research.google.com/assets/colab-badge.svg\" alt=\"Open In Colab\"/></a>"
      ]
    },
    {
      "cell_type": "code",
      "execution_count": null,
      "metadata": {
        "colab": {
          "base_uri": "https://localhost:8080/"
        },
        "id": "8GBMhTtQiWQd",
        "outputId": "7cb2d13b-dd79-4aec-aad8-e4f5fd5ea24b"
      },
      "outputs": [
        {
          "output_type": "stream",
          "name": "stdout",
          "text": [
            "Requirement already satisfied: pyspark in /usr/local/lib/python3.12/dist-packages (3.5.1)\n",
            "Requirement already satisfied: py4j==0.10.9.7 in /usr/local/lib/python3.12/dist-packages (from pyspark) (0.10.9.7)\n"
          ]
        }
      ],
      "source": [
        "!pip install pyspark"
      ]
    },
    {
      "cell_type": "code",
      "source": [
        "import pyspark"
      ],
      "metadata": {
        "id": "wURPnYpkia4N"
      },
      "execution_count": null,
      "outputs": []
    },
    {
      "cell_type": "code",
      "source": [
        "import pandas as pd\n",
        "import random\n",
        "from datetime import datetime, timedelta\n",
        "\n",
        "categories = [\n",
        "    \"Thị trường chứng khoán\",\n",
        "    \"Kinh tế vĩ mô - Đầu tư\",\n",
        "    \"Thị trường\",\n",
        "    \"Doanh nghiệp\",\n",
        "    \"Bất động sản\"\n",
        "]\n",
        "\n",
        "contents = [\n",
        "    \"VN-Index tăng mạnh trong phiên giao dịch hôm nay.\",\n",
        "    \"Chính phủ công bố gói kích thích kinh tế mới.\",\n",
        "    \"Giá vàng trong nước tiếp tục biến động.\",\n",
        "    \"Một doanh nghiệp công nghệ vừa ra mắt sản phẩm mới.\",\n",
        "    \"Thị trường bất động sản khu công nghiệp khởi sắc.\"\n",
        "]\n",
        "\n",
        "descriptions = [\n",
        "    \"Bản tin chứng khoán cuối ngày.\",\n",
        "    \"Phân tích chính sách vĩ mô.\",\n",
        "    \"Cập nhật tình hình thị trường.\",\n",
        "    \"Tin tức nổi bật từ doanh nghiệp.\",\n",
        "    \"Nhận định về thị trường bất động sản.\"\n",
        "]\n",
        "\n",
        "titles = [\n",
        "    \"Chứng khoán bật tăng\",\n",
        "    \"Kinh tế vĩ mô khởi sắc\",\n",
        "    \"Thị trường vàng biến động\",\n",
        "    \"Doanh nghiệp ra mắt sản phẩm\",\n",
        "    \"Bất động sản công nghiệp phát triển\"\n",
        "]\n",
        "\n",
        "n = 10\n",
        "data = {\n",
        "    \"category\": [random.choice(categories) for _ in range(n)],\n",
        "    \"content\": [random.choice(contents) for _ in range(n)],\n",
        "    \"date\": [(datetime.today() - timedelta(days=random.randint(0, 30))).strftime(\"%Y-%m-%d\") for _ in range(n)],\n",
        "    \"description\": [random.choice(descriptions) for _ in range(n)],\n",
        "    \"time\": [(datetime.now() - timedelta(minutes=random.randint(0, 10000))).strftime(\"%H:%M:%S\") for _ in range(n)],\n",
        "    \"title\": [random.choice(titles) for _ in range(n)],\n",
        "    \"url\": [f\"https://example.com/article/{i}\" for i in range(n)]\n",
        "}\n",
        "\n",
        "df = pd.DataFrame(data)\n",
        "print(df)"
      ],
      "metadata": {
        "colab": {
          "base_uri": "https://localhost:8080/"
        },
        "id": "lBV0hDacid97",
        "outputId": "aa39e849-2cfa-4afc-c66c-8b05ddc4e015"
      },
      "execution_count": null,
      "outputs": [
        {
          "output_type": "stream",
          "name": "stdout",
          "text": [
            "                 category                                            content  \\\n",
            "0            Bất động sản  Một doanh nghiệp công nghệ vừa ra mắt sản phẩm...   \n",
            "1  Thị trường chứng khoán      Chính phủ công bố gói kích thích kinh tế mới.   \n",
            "2            Bất động sản      Chính phủ công bố gói kích thích kinh tế mới.   \n",
            "3            Doanh nghiệp  Thị trường bất động sản khu công nghiệp khởi sắc.   \n",
            "4  Thị trường chứng khoán  Một doanh nghiệp công nghệ vừa ra mắt sản phẩm...   \n",
            "5  Kinh tế vĩ mô - Đầu tư            Giá vàng trong nước tiếp tục biến động.   \n",
            "6            Doanh nghiệp      Chính phủ công bố gói kích thích kinh tế mới.   \n",
            "7  Kinh tế vĩ mô - Đầu tư            Giá vàng trong nước tiếp tục biến động.   \n",
            "8  Thị trường chứng khoán            Giá vàng trong nước tiếp tục biến động.   \n",
            "9  Thị trường chứng khoán  Thị trường bất động sản khu công nghiệp khởi sắc.   \n",
            "\n",
            "         date                            description      time  \\\n",
            "0  2025-08-18         Cập nhật tình hình thị trường.  16:55:52   \n",
            "1  2025-08-29       Tin tức nổi bật từ doanh nghiệp.  07:42:52   \n",
            "2  2025-08-15         Cập nhật tình hình thị trường.  00:04:52   \n",
            "3  2025-08-28  Nhận định về thị trường bất động sản.  01:08:52   \n",
            "4  2025-08-28         Bản tin chứng khoán cuối ngày.  07:18:52   \n",
            "5  2025-09-05  Nhận định về thị trường bất động sản.  02:55:52   \n",
            "6  2025-08-17  Nhận định về thị trường bất động sản.  04:47:52   \n",
            "7  2025-08-14            Phân tích chính sách vĩ mô.  23:25:52   \n",
            "8  2025-08-29            Phân tích chính sách vĩ mô.  20:23:52   \n",
            "9  2025-08-20       Tin tức nổi bật từ doanh nghiệp.  22:51:52   \n",
            "\n",
            "                                 title                            url  \n",
            "0            Thị trường vàng biến động  https://example.com/article/0  \n",
            "1                 Chứng khoán bật tăng  https://example.com/article/1  \n",
            "2         Doanh nghiệp ra mắt sản phẩm  https://example.com/article/2  \n",
            "3         Doanh nghiệp ra mắt sản phẩm  https://example.com/article/3  \n",
            "4            Thị trường vàng biến động  https://example.com/article/4  \n",
            "5  Bất động sản công nghiệp phát triển  https://example.com/article/5  \n",
            "6         Doanh nghiệp ra mắt sản phẩm  https://example.com/article/6  \n",
            "7            Thị trường vàng biến động  https://example.com/article/7  \n",
            "8         Doanh nghiệp ra mắt sản phẩm  https://example.com/article/8  \n",
            "9         Doanh nghiệp ra mắt sản phẩm  https://example.com/article/9  \n"
          ]
        }
      ]
    },
    {
      "cell_type": "code",
      "source": [
        "from pyspark.sql import SparkSession\n",
        "spark = SparkSession.builder.appName(\"Test\").getOrCreate()"
      ],
      "metadata": {
        "id": "v-QR669oig1j"
      },
      "execution_count": null,
      "outputs": []
    },
    {
      "cell_type": "code",
      "source": [
        "spark"
      ],
      "metadata": {
        "colab": {
          "base_uri": "https://localhost:8080/",
          "height": 219
        },
        "id": "pbFHMfaxl1qp",
        "outputId": "e26ac3fe-a770-44a1-e484-201e098d6d30"
      },
      "execution_count": null,
      "outputs": [
        {
          "output_type": "execute_result",
          "data": {
            "text/plain": [
              "<pyspark.sql.session.SparkSession at 0x7c20f4183770>"
            ],
            "text/html": [
              "\n",
              "            <div>\n",
              "                <p><b>SparkSession - in-memory</b></p>\n",
              "                \n",
              "        <div>\n",
              "            <p><b>SparkContext</b></p>\n",
              "\n",
              "            <p><a href=\"http://bd8fcd64d370:4040\">Spark UI</a></p>\n",
              "\n",
              "            <dl>\n",
              "              <dt>Version</dt>\n",
              "                <dd><code>v3.5.1</code></dd>\n",
              "              <dt>Master</dt>\n",
              "                <dd><code>local[*]</code></dd>\n",
              "              <dt>AppName</dt>\n",
              "                <dd><code>Test</code></dd>\n",
              "            </dl>\n",
              "        </div>\n",
              "        \n",
              "            </div>\n",
              "        "
            ]
          },
          "metadata": {},
          "execution_count": 167
        }
      ]
    },
    {
      "cell_type": "code",
      "source": [
        "df_pyspark=spark.createDataFrame(df)"
      ],
      "metadata": {
        "id": "mvolJPdsl5Yu"
      },
      "execution_count": null,
      "outputs": []
    },
    {
      "cell_type": "code",
      "source": [
        "df_pyspark.show()"
      ],
      "metadata": {
        "colab": {
          "base_uri": "https://localhost:8080/"
        },
        "id": "9RuBvkuCmVdP",
        "outputId": "5900f8c7-ba0e-45f1-d4a7-23c1c864bdda"
      },
      "execution_count": null,
      "outputs": [
        {
          "output_type": "stream",
          "name": "stdout",
          "text": [
            "+--------------------+--------------------+----------+--------------------+--------+--------------------+--------------------+\n",
            "|            category|             content|      date|         description|    time|               title|                 url|\n",
            "+--------------------+--------------------+----------+--------------------+--------+--------------------+--------------------+\n",
            "|        Bất động sản|Một doanh nghiệp ...|2025-08-18|Cập nhật tình hìn...|16:55:52|Thị trường vàng b...|https://example.c...|\n",
            "|Thị trường chứng ...|Chính phủ công bố...|2025-08-29|Tin tức nổi bật t...|07:42:52|Chứng khoán bật tăng|https://example.c...|\n",
            "|        Bất động sản|Chính phủ công bố...|2025-08-15|Cập nhật tình hìn...|00:04:52|Doanh nghiệp ra m...|https://example.c...|\n",
            "|        Doanh nghiệp|Thị trường bất độ...|2025-08-28|Nhận định về thị ...|01:08:52|Doanh nghiệp ra m...|https://example.c...|\n",
            "|Thị trường chứng ...|Một doanh nghiệp ...|2025-08-28|Bản tin chứng kho...|07:18:52|Thị trường vàng b...|https://example.c...|\n",
            "|Kinh tế vĩ mô - Đ...|Giá vàng trong nư...|2025-09-05|Nhận định về thị ...|02:55:52|Bất động sản công...|https://example.c...|\n",
            "|        Doanh nghiệp|Chính phủ công bố...|2025-08-17|Nhận định về thị ...|04:47:52|Doanh nghiệp ra m...|https://example.c...|\n",
            "|Kinh tế vĩ mô - Đ...|Giá vàng trong nư...|2025-08-14|Phân tích chính s...|23:25:52|Thị trường vàng b...|https://example.c...|\n",
            "|Thị trường chứng ...|Giá vàng trong nư...|2025-08-29|Phân tích chính s...|20:23:52|Doanh nghiệp ra m...|https://example.c...|\n",
            "|Thị trường chứng ...|Thị trường bất độ...|2025-08-20|Tin tức nổi bật t...|22:51:52|Doanh nghiệp ra m...|https://example.c...|\n",
            "+--------------------+--------------------+----------+--------------------+--------+--------------------+--------------------+\n",
            "\n"
          ]
        }
      ]
    },
    {
      "cell_type": "code",
      "source": [
        "type(df_pyspark)"
      ],
      "metadata": {
        "colab": {
          "base_uri": "https://localhost:8080/",
          "height": 187
        },
        "id": "vLE6heVEmZzG",
        "outputId": "cae82dc5-f752-4a7f-e3a0-04983c2b20d1"
      },
      "execution_count": null,
      "outputs": [
        {
          "output_type": "execute_result",
          "data": {
            "text/plain": [
              "pyspark.sql.dataframe.DataFrame"
            ],
            "text/html": [
              "<div style=\"max-width:800px; border: 1px solid var(--colab-border-color);\"><style>\n",
              "      pre.function-repr-contents {\n",
              "        overflow-x: auto;\n",
              "        padding: 8px 12px;\n",
              "        max-height: 500px;\n",
              "      }\n",
              "\n",
              "      pre.function-repr-contents.function-repr-contents-collapsed {\n",
              "        cursor: pointer;\n",
              "        max-height: 100px;\n",
              "      }\n",
              "    </style>\n",
              "    <pre style=\"white-space: initial; background:\n",
              "         var(--colab-secondary-surface-color); padding: 8px 12px;\n",
              "         border-bottom: 1px solid var(--colab-border-color);\"><b>pyspark.sql.dataframe.DataFrame</b><br/>def __init__(jdf: JavaObject, sql_ctx: Union[&#x27;SQLContext&#x27;, &#x27;SparkSession&#x27;])</pre><pre class=\"function-repr-contents function-repr-contents-collapsed\" style=\"\"><a class=\"filepath\" style=\"display:none\" href=\"#\">/usr/local/lib/python3.12/dist-packages/pyspark/sql/dataframe.py</a>A distributed collection of data grouped into named columns.\n",
              "\n",
              ".. versionadded:: 1.3.0\n",
              "\n",
              ".. versionchanged:: 3.4.0\n",
              "    Supports Spark Connect.\n",
              "\n",
              "Examples\n",
              "--------\n",
              "A :class:`DataFrame` is equivalent to a relational table in Spark SQL,\n",
              "and can be created using various functions in :class:`SparkSession`:\n",
              "\n",
              "&gt;&gt;&gt; people = spark.createDataFrame([\n",
              "...     {&quot;deptId&quot;: 1, &quot;age&quot;: 40, &quot;name&quot;: &quot;Hyukjin Kwon&quot;, &quot;gender&quot;: &quot;M&quot;, &quot;salary&quot;: 50},\n",
              "...     {&quot;deptId&quot;: 1, &quot;age&quot;: 50, &quot;name&quot;: &quot;Takuya Ueshin&quot;, &quot;gender&quot;: &quot;M&quot;, &quot;salary&quot;: 100},\n",
              "...     {&quot;deptId&quot;: 2, &quot;age&quot;: 60, &quot;name&quot;: &quot;Xinrong Meng&quot;, &quot;gender&quot;: &quot;F&quot;, &quot;salary&quot;: 150},\n",
              "...     {&quot;deptId&quot;: 3, &quot;age&quot;: 20, &quot;name&quot;: &quot;Haejoon Lee&quot;, &quot;gender&quot;: &quot;M&quot;, &quot;salary&quot;: 200}\n",
              "... ])\n",
              "\n",
              "Once created, it can be manipulated using the various domain-specific-language\n",
              "(DSL) functions defined in: :class:`DataFrame`, :class:`Column`.\n",
              "\n",
              "To select a column from the :class:`DataFrame`, use the apply method:\n",
              "\n",
              "&gt;&gt;&gt; age_col = people.age\n",
              "\n",
              "A more concrete example:\n",
              "\n",
              "&gt;&gt;&gt; # To create DataFrame using SparkSession\n",
              "... department = spark.createDataFrame([\n",
              "...     {&quot;id&quot;: 1, &quot;name&quot;: &quot;PySpark&quot;},\n",
              "...     {&quot;id&quot;: 2, &quot;name&quot;: &quot;ML&quot;},\n",
              "...     {&quot;id&quot;: 3, &quot;name&quot;: &quot;Spark SQL&quot;}\n",
              "... ])\n",
              "\n",
              "&gt;&gt;&gt; people.filter(people.age &gt; 30).join(\n",
              "...     department, people.deptId == department.id).groupBy(\n",
              "...     department.name, &quot;gender&quot;).agg({&quot;salary&quot;: &quot;avg&quot;, &quot;age&quot;: &quot;max&quot;}).show()\n",
              "+-------+------+-----------+--------+\n",
              "|   name|gender|avg(salary)|max(age)|\n",
              "+-------+------+-----------+--------+\n",
              "|     ML|     F|      150.0|      60|\n",
              "|PySpark|     M|       75.0|      50|\n",
              "+-------+------+-----------+--------+\n",
              "\n",
              "Notes\n",
              "-----\n",
              "A DataFrame should only be created as described above. It should not be directly\n",
              "created via using the constructor.</pre>\n",
              "      <script>\n",
              "      if (google.colab.kernel.accessAllowed && google.colab.files && google.colab.files.view) {\n",
              "        for (const element of document.querySelectorAll('.filepath')) {\n",
              "          element.style.display = 'block'\n",
              "          element.onclick = (event) => {\n",
              "            event.preventDefault();\n",
              "            event.stopPropagation();\n",
              "            google.colab.files.view(element.textContent, 80);\n",
              "          };\n",
              "        }\n",
              "      }\n",
              "      for (const element of document.querySelectorAll('.function-repr-contents')) {\n",
              "        element.onclick = (event) => {\n",
              "          event.preventDefault();\n",
              "          event.stopPropagation();\n",
              "          element.classList.toggle('function-repr-contents-collapsed');\n",
              "        };\n",
              "      }\n",
              "      </script>\n",
              "      </div>"
            ]
          },
          "metadata": {},
          "execution_count": 170
        }
      ]
    },
    {
      "cell_type": "code",
      "source": [
        "df_pyspark.printSchema()"
      ],
      "metadata": {
        "colab": {
          "base_uri": "https://localhost:8080/"
        },
        "id": "YTrUj4lGmnvV",
        "outputId": "b010301a-ee6f-47ba-907c-4c2dbb708edf"
      },
      "execution_count": null,
      "outputs": [
        {
          "output_type": "stream",
          "name": "stdout",
          "text": [
            "root\n",
            " |-- category: string (nullable = true)\n",
            " |-- content: string (nullable = true)\n",
            " |-- date: string (nullable = true)\n",
            " |-- description: string (nullable = true)\n",
            " |-- time: string (nullable = true)\n",
            " |-- title: string (nullable = true)\n",
            " |-- url: string (nullable = true)\n",
            "\n"
          ]
        }
      ]
    },
    {
      "cell_type": "code",
      "source": [
        "df_pyspark.select('time').show()"
      ],
      "metadata": {
        "colab": {
          "base_uri": "https://localhost:8080/"
        },
        "id": "Ok0WcbGWnaP5",
        "outputId": "07fe4a7f-2c4e-4b71-f1f8-c2537e6d4cfb"
      },
      "execution_count": null,
      "outputs": [
        {
          "output_type": "stream",
          "name": "stdout",
          "text": [
            "+--------+\n",
            "|    time|\n",
            "+--------+\n",
            "|16:55:52|\n",
            "|07:42:52|\n",
            "|00:04:52|\n",
            "|01:08:52|\n",
            "|07:18:52|\n",
            "|02:55:52|\n",
            "|04:47:52|\n",
            "|23:25:52|\n",
            "|20:23:52|\n",
            "|22:51:52|\n",
            "+--------+\n",
            "\n"
          ]
        }
      ]
    },
    {
      "cell_type": "code",
      "source": [
        "df_pyspark['category']"
      ],
      "metadata": {
        "colab": {
          "base_uri": "https://localhost:8080/"
        },
        "id": "g0_dYQOwo110",
        "outputId": "cb2bb22b-bea2-4dc1-ebe0-e3f3b5e12e2e"
      },
      "execution_count": null,
      "outputs": [
        {
          "output_type": "execute_result",
          "data": {
            "text/plain": [
              "Column<'category'>"
            ]
          },
          "metadata": {},
          "execution_count": 173
        }
      ]
    },
    {
      "cell_type": "code",
      "source": [
        "df_pyspark.dtypes"
      ],
      "metadata": {
        "colab": {
          "base_uri": "https://localhost:8080/"
        },
        "id": "NiiYDpHopOms",
        "outputId": "f94ec487-a990-4d95-d431-0d6d19aa634e"
      },
      "execution_count": null,
      "outputs": [
        {
          "output_type": "execute_result",
          "data": {
            "text/plain": [
              "[('category', 'string'),\n",
              " ('content', 'string'),\n",
              " ('date', 'string'),\n",
              " ('description', 'string'),\n",
              " ('time', 'string'),\n",
              " ('title', 'string'),\n",
              " ('url', 'string')]"
            ]
          },
          "metadata": {},
          "execution_count": 174
        }
      ]
    },
    {
      "cell_type": "code",
      "source": [
        "from pyspark.sql.functions import concat, lit, to_timestamp\n",
        "\n",
        "df_pyspark = df_pyspark.withColumn(\n",
        "    \"date_time\",\n",
        "    to_timestamp(\n",
        "        concat(df_pyspark['date'],lit(\" \"),df_pyspark['time']),\n",
        "    \"yyyy-MM-dd HH:mm:ss\")\n",
        ")\n",
        "df_pyspark"
      ],
      "metadata": {
        "colab": {
          "base_uri": "https://localhost:8080/"
        },
        "id": "YGPRXonLphn2",
        "outputId": "42ef8293-03d4-44c2-899a-5e63beb8bca0"
      },
      "execution_count": null,
      "outputs": [
        {
          "output_type": "execute_result",
          "data": {
            "text/plain": [
              "DataFrame[category: string, content: string, date: string, description: string, time: string, title: string, url: string, date_time: timestamp]"
            ]
          },
          "metadata": {},
          "execution_count": 175
        }
      ]
    },
    {
      "cell_type": "code",
      "source": [
        "df_pyspark.describe().show()"
      ],
      "metadata": {
        "colab": {
          "base_uri": "https://localhost:8080/"
        },
        "id": "XY5wQpULqNiT",
        "outputId": "d1002434-bb99-4ed0-cc1e-4a6949970ef2"
      },
      "execution_count": null,
      "outputs": [
        {
          "output_type": "stream",
          "name": "stdout",
          "text": [
            "+-------+--------------------+--------------------+----------+--------------------+--------+--------------------+--------------------+\n",
            "|summary|            category|             content|      date|         description|    time|               title|                 url|\n",
            "+-------+--------------------+--------------------+----------+--------------------+--------+--------------------+--------------------+\n",
            "|  count|                  10|                  10|        10|                  10|      10|                  10|                  10|\n",
            "|   mean|                NULL|                NULL|      NULL|                NULL|    NULL|                NULL|                NULL|\n",
            "| stddev|                NULL|                NULL|      NULL|                NULL|    NULL|                NULL|                NULL|\n",
            "|    min|        Bất động sản|Chính phủ công bố...|2025-08-14|Bản tin chứng kho...|00:04:52|Bất động sản công...|https://example.c...|\n",
            "|    max|Thị trường chứng ...|Thị trường bất độ...|2025-09-05|Tin tức nổi bật t...|23:25:52|Thị trường vàng b...|https://example.c...|\n",
            "+-------+--------------------+--------------------+----------+--------------------+--------+--------------------+--------------------+\n",
            "\n"
          ]
        }
      ]
    },
    {
      "cell_type": "code",
      "source": [
        "from pyspark.sql.functions import rand,round\n",
        "df_pyspark=df_pyspark.withColumn('Reviewing rate',round(rand(seed=5)*5)+1)"
      ],
      "metadata": {
        "id": "gD_bXZDbqSSg"
      },
      "execution_count": null,
      "outputs": []
    },
    {
      "cell_type": "code",
      "source": [
        "df_pyspark.select('time','date','date_time').show()"
      ],
      "metadata": {
        "colab": {
          "base_uri": "https://localhost:8080/"
        },
        "id": "XSjojKrbsYWA",
        "outputId": "9e8788b3-cfb2-45de-ebb7-40e9dd5934c9"
      },
      "execution_count": null,
      "outputs": [
        {
          "output_type": "stream",
          "name": "stdout",
          "text": [
            "+--------+----------+-------------------+\n",
            "|    time|      date|          date_time|\n",
            "+--------+----------+-------------------+\n",
            "|16:55:52|2025-08-18|2025-08-18 16:55:52|\n",
            "|07:42:52|2025-08-29|2025-08-29 07:42:52|\n",
            "|00:04:52|2025-08-15|2025-08-15 00:04:52|\n",
            "|01:08:52|2025-08-28|2025-08-28 01:08:52|\n",
            "|07:18:52|2025-08-28|2025-08-28 07:18:52|\n",
            "|02:55:52|2025-09-05|2025-09-05 02:55:52|\n",
            "|04:47:52|2025-08-17|2025-08-17 04:47:52|\n",
            "|23:25:52|2025-08-14|2025-08-14 23:25:52|\n",
            "|20:23:52|2025-08-29|2025-08-29 20:23:52|\n",
            "|22:51:52|2025-08-20|2025-08-20 22:51:52|\n",
            "+--------+----------+-------------------+\n",
            "\n"
          ]
        }
      ]
    },
    {
      "cell_type": "code",
      "source": [
        "df_pyspark=df_pyspark.drop('time','date')"
      ],
      "metadata": {
        "id": "615RsaO_uXDW"
      },
      "execution_count": null,
      "outputs": []
    },
    {
      "cell_type": "markdown",
      "source": [
        "**Filtering**"
      ],
      "metadata": {
        "id": "SKq6TlHV69Kr"
      }
    },
    {
      "cell_type": "code",
      "source": [
        "df_pyspark.show()"
      ],
      "metadata": {
        "colab": {
          "base_uri": "https://localhost:8080/"
        },
        "id": "Th2no0Hy8iDk",
        "outputId": "2776e386-00b5-467f-859c-b8508b18b13c"
      },
      "execution_count": null,
      "outputs": [
        {
          "output_type": "stream",
          "name": "stdout",
          "text": [
            "+--------------------+--------------------+--------------------+--------------------+--------------------+-------------------+--------------+\n",
            "|            category|             content|         description|               title|                 url|          date_time|Reviewing rate|\n",
            "+--------------------+--------------------+--------------------+--------------------+--------------------+-------------------+--------------+\n",
            "|        Bất động sản|Một doanh nghiệp ...|Cập nhật tình hìn...|Thị trường vàng b...|https://example.c...|2025-08-18 16:55:52|           1.0|\n",
            "|Thị trường chứng ...|Chính phủ công bố...|Tin tức nổi bật t...|Chứng khoán bật tăng|https://example.c...|2025-08-29 07:42:52|           1.0|\n",
            "|        Bất động sản|Chính phủ công bố...|Cập nhật tình hìn...|Doanh nghiệp ra m...|https://example.c...|2025-08-15 00:04:52|           5.0|\n",
            "|        Doanh nghiệp|Thị trường bất độ...|Nhận định về thị ...|Doanh nghiệp ra m...|https://example.c...|2025-08-28 01:08:52|           4.0|\n",
            "|Thị trường chứng ...|Một doanh nghiệp ...|Bản tin chứng kho...|Thị trường vàng b...|https://example.c...|2025-08-28 07:18:52|           3.0|\n",
            "|Kinh tế vĩ mô - Đ...|Giá vàng trong nư...|Nhận định về thị ...|Bất động sản công...|https://example.c...|2025-09-05 02:55:52|           1.0|\n",
            "|        Doanh nghiệp|Chính phủ công bố...|Nhận định về thị ...|Doanh nghiệp ra m...|https://example.c...|2025-08-17 04:47:52|           5.0|\n",
            "|Kinh tế vĩ mô - Đ...|Giá vàng trong nư...|Phân tích chính s...|Thị trường vàng b...|https://example.c...|2025-08-14 23:25:52|           3.0|\n",
            "|Thị trường chứng ...|Giá vàng trong nư...|Phân tích chính s...|Doanh nghiệp ra m...|https://example.c...|2025-08-29 20:23:52|           6.0|\n",
            "|Thị trường chứng ...|Thị trường bất độ...|Tin tức nổi bật t...|Doanh nghiệp ra m...|https://example.c...|2025-08-20 22:51:52|           6.0|\n",
            "+--------------------+--------------------+--------------------+--------------------+--------------------+-------------------+--------------+\n",
            "\n"
          ]
        }
      ]
    },
    {
      "cell_type": "code",
      "source": [
        "from pyspark.sql.functions import col\n",
        "df_pyspark.filter(col(\"category\").isin(\"Bất động sản\",\"Thị trường chứng khoán\")).show()\n",
        "# df_pyspark.filter(col(\"category\")=={\"Bất động sản\",\"Chứng khoán\"}).show()"
      ],
      "metadata": {
        "colab": {
          "base_uri": "https://localhost:8080/"
        },
        "id": "SfDqmbp77YQO",
        "outputId": "1cd62dd3-4495-4ea1-8990-82fca94c6a44"
      },
      "execution_count": null,
      "outputs": [
        {
          "output_type": "stream",
          "name": "stdout",
          "text": [
            "+--------------------+--------------------+--------------------+--------------------+--------------------+-------------------+--------------+\n",
            "|            category|             content|         description|               title|                 url|          date_time|Reviewing rate|\n",
            "+--------------------+--------------------+--------------------+--------------------+--------------------+-------------------+--------------+\n",
            "|        Bất động sản|Một doanh nghiệp ...|Cập nhật tình hìn...|Thị trường vàng b...|https://example.c...|2025-08-18 16:55:52|           1.0|\n",
            "|Thị trường chứng ...|Chính phủ công bố...|Tin tức nổi bật t...|Chứng khoán bật tăng|https://example.c...|2025-08-29 07:42:52|           1.0|\n",
            "|        Bất động sản|Chính phủ công bố...|Cập nhật tình hìn...|Doanh nghiệp ra m...|https://example.c...|2025-08-15 00:04:52|           5.0|\n",
            "|Thị trường chứng ...|Một doanh nghiệp ...|Bản tin chứng kho...|Thị trường vàng b...|https://example.c...|2025-08-28 07:18:52|           3.0|\n",
            "|Thị trường chứng ...|Giá vàng trong nư...|Phân tích chính s...|Doanh nghiệp ra m...|https://example.c...|2025-08-29 20:23:52|           6.0|\n",
            "|Thị trường chứng ...|Thị trường bất độ...|Tin tức nổi bật t...|Doanh nghiệp ra m...|https://example.c...|2025-08-20 22:51:52|           6.0|\n",
            "+--------------------+--------------------+--------------------+--------------------+--------------------+-------------------+--------------+\n",
            "\n"
          ]
        }
      ]
    },
    {
      "cell_type": "code",
      "source": [
        "df_pyspark.filter((col(\"date_time\")>=\"2025-08-20\")&(col(\"date_time\")<=\"2025-09-15\")).show()"
      ],
      "metadata": {
        "id": "9oc27pGQ73C0",
        "colab": {
          "base_uri": "https://localhost:8080/"
        },
        "outputId": "7eddaa6d-98e6-4090-ab4e-a1928e247c31"
      },
      "execution_count": null,
      "outputs": [
        {
          "output_type": "stream",
          "name": "stdout",
          "text": [
            "+--------------------+--------------------+--------------------+--------------------+--------------------+-------------------+--------------+\n",
            "|            category|             content|         description|               title|                 url|          date_time|Reviewing rate|\n",
            "+--------------------+--------------------+--------------------+--------------------+--------------------+-------------------+--------------+\n",
            "|Thị trường chứng ...|Chính phủ công bố...|Tin tức nổi bật t...|Chứng khoán bật tăng|https://example.c...|2025-08-29 07:42:52|           1.0|\n",
            "|        Doanh nghiệp|Thị trường bất độ...|Nhận định về thị ...|Doanh nghiệp ra m...|https://example.c...|2025-08-28 01:08:52|           4.0|\n",
            "|Thị trường chứng ...|Một doanh nghiệp ...|Bản tin chứng kho...|Thị trường vàng b...|https://example.c...|2025-08-28 07:18:52|           3.0|\n",
            "|Kinh tế vĩ mô - Đ...|Giá vàng trong nư...|Nhận định về thị ...|Bất động sản công...|https://example.c...|2025-09-05 02:55:52|           1.0|\n",
            "|Thị trường chứng ...|Giá vàng trong nư...|Phân tích chính s...|Doanh nghiệp ra m...|https://example.c...|2025-08-29 20:23:52|           6.0|\n",
            "|Thị trường chứng ...|Thị trường bất độ...|Tin tức nổi bật t...|Doanh nghiệp ra m...|https://example.c...|2025-08-20 22:51:52|           6.0|\n",
            "+--------------------+--------------------+--------------------+--------------------+--------------------+-------------------+--------------+\n",
            "\n"
          ]
        }
      ]
    },
    {
      "cell_type": "code",
      "source": [
        "df_pyspark.groupBy(\"category\").count().show()"
      ],
      "metadata": {
        "colab": {
          "base_uri": "https://localhost:8080/"
        },
        "id": "RVTvL7ojUYuc",
        "outputId": "d9c98395-6687-48ef-a35f-b31ac2b16898"
      },
      "execution_count": null,
      "outputs": [
        {
          "output_type": "stream",
          "name": "stdout",
          "text": [
            "+--------------------+-----+\n",
            "|            category|count|\n",
            "+--------------------+-----+\n",
            "|        Bất động sản|    2|\n",
            "|Thị trường chứng ...|    4|\n",
            "|        Doanh nghiệp|    2|\n",
            "|Kinh tế vĩ mô - Đ...|    2|\n",
            "+--------------------+-----+\n",
            "\n"
          ]
        }
      ]
    },
    {
      "cell_type": "code",
      "source": [
        "df_pyspark.groupBy(\"category\").mean('Reviewing rate').show()"
      ],
      "metadata": {
        "colab": {
          "base_uri": "https://localhost:8080/"
        },
        "id": "M1rf-a6FcNsh",
        "outputId": "f560def0-7adf-4254-b2f9-635cd5e4f37a"
      },
      "execution_count": null,
      "outputs": [
        {
          "output_type": "stream",
          "name": "stdout",
          "text": [
            "+--------------------+-------------------+\n",
            "|            category|avg(Reviewing rate)|\n",
            "+--------------------+-------------------+\n",
            "|        Bất động sản|                3.0|\n",
            "|Thị trường chứng ...|                4.0|\n",
            "|        Doanh nghiệp|                4.5|\n",
            "|Kinh tế vĩ mô - Đ...|                2.0|\n",
            "+--------------------+-------------------+\n",
            "\n"
          ]
        }
      ]
    },
    {
      "cell_type": "code",
      "source": [
        "df_pyspark.groupBy(\"category\").min('Reviewing rate').take(1)"
      ],
      "metadata": {
        "colab": {
          "base_uri": "https://localhost:8080/"
        },
        "id": "YRxLVqYFcmJ5",
        "outputId": "6bdba1b7-1160-4f0c-aa82-3d7045b981dc"
      },
      "execution_count": null,
      "outputs": [
        {
          "output_type": "execute_result",
          "data": {
            "text/plain": [
              "[Row(category='Bất động sản', min(Reviewing rate)=1.0)]"
            ]
          },
          "metadata": {},
          "execution_count": 199
        }
      ]
    },
    {
      "cell_type": "markdown",
      "source": [
        "Example of Pyspark ML"
      ],
      "metadata": {
        "id": "uKNzxCITfG7i"
      }
    },
    {
      "cell_type": "code",
      "source": [
        "df_pyspark=df_pyspark.withColumn('Likes',df_pyspark['Reviewing rate']*56+round(rand(seed=5)*2))\n",
        "df_pyspark=df_pyspark.withColumn('Sales',df_pyspark['Reviewing rate']*78000+round(rand(seed=42)*15000))\n",
        "df_pyspark=df_pyspark.drop('url','content')"
      ],
      "metadata": {
        "id": "XkTm84MLeRCS"
      },
      "execution_count": null,
      "outputs": []
    },
    {
      "cell_type": "code",
      "source": [
        "df_pyspark.printSchema()"
      ],
      "metadata": {
        "colab": {
          "base_uri": "https://localhost:8080/"
        },
        "id": "0JRnDFEEfoQE",
        "outputId": "b0a4c1da-5815-4ed8-b0ae-675706c64109"
      },
      "execution_count": null,
      "outputs": [
        {
          "output_type": "stream",
          "name": "stdout",
          "text": [
            "root\n",
            " |-- category: string (nullable = true)\n",
            " |-- description: string (nullable = true)\n",
            " |-- title: string (nullable = true)\n",
            " |-- date_time: timestamp (nullable = true)\n",
            " |-- Reviewing rate: double (nullable = true)\n",
            " |-- Likes: double (nullable = true)\n",
            " |-- Sales: double (nullable = true)\n",
            "\n"
          ]
        }
      ]
    },
    {
      "cell_type": "code",
      "source": [
        "training=df_pyspark.select('category','date_time','Likes','Sales','Reviewing rate')\n",
        "training.show()"
      ],
      "metadata": {
        "colab": {
          "base_uri": "https://localhost:8080/"
        },
        "id": "yjxH2oXBgsGt",
        "outputId": "bd9ac1e8-fb29-465e-c4cb-8ebd31a158d9"
      },
      "execution_count": null,
      "outputs": [
        {
          "output_type": "stream",
          "name": "stdout",
          "text": [
            "+--------------------+-------------------+-----+--------+--------------+\n",
            "|            category|          date_time|Likes|   Sales|Reviewing rate|\n",
            "+--------------------+-------------------+-----+--------+--------------+\n",
            "|        Bất động sản|2025-08-18 16:55:52| 56.0| 87288.0|           1.0|\n",
            "|Thị trường chứng ...|2025-08-29 07:42:52| 56.0| 85644.0|           1.0|\n",
            "|        Bất động sản|2025-08-15 00:04:52|282.0|402488.0|           5.0|\n",
            "|        Doanh nghiệp|2025-08-28 01:08:52|225.0|315948.0|           4.0|\n",
            "|Thị trường chứng ...|2025-08-28 07:18:52|169.0|244054.0|           3.0|\n",
            "|Kinh tế vĩ mô - Đ...|2025-09-05 02:55:52| 56.0| 90026.0|           1.0|\n",
            "|        Doanh nghiệp|2025-08-17 04:47:52|281.0|399848.0|           5.0|\n",
            "|Kinh tế vĩ mô - Đ...|2025-08-14 23:25:52|169.0|237773.0|           3.0|\n",
            "|Thị trường chứng ...|2025-08-29 20:23:52|338.0|471110.0|           6.0|\n",
            "|Thị trường chứng ...|2025-08-20 22:51:52|338.0|477589.0|           6.0|\n",
            "+--------------------+-------------------+-----+--------+--------------+\n",
            "\n"
          ]
        }
      ]
    },
    {
      "cell_type": "code",
      "source": [
        "training.printSchema()"
      ],
      "metadata": {
        "colab": {
          "base_uri": "https://localhost:8080/"
        },
        "id": "TJIDU6g8hcC2",
        "outputId": "3ee9ccbd-dc3f-4981-f6c5-af4fcaddf4b8"
      },
      "execution_count": null,
      "outputs": [
        {
          "output_type": "stream",
          "name": "stdout",
          "text": [
            "root\n",
            " |-- category: string (nullable = true)\n",
            " |-- date_time: timestamp (nullable = true)\n",
            " |-- Likes: double (nullable = true)\n",
            " |-- Sales: double (nullable = true)\n",
            " |-- Reviewing rate: double (nullable = true)\n",
            "\n"
          ]
        }
      ]
    },
    {
      "cell_type": "code",
      "source": [
        "training.columns"
      ],
      "metadata": {
        "colab": {
          "base_uri": "https://localhost:8080/"
        },
        "id": "JwkphNAbh2rx",
        "outputId": "fcf3da8c-ef74-45a3-ad93-cc4609160698"
      },
      "execution_count": null,
      "outputs": [
        {
          "output_type": "execute_result",
          "data": {
            "text/plain": [
              "['category', 'date_time', 'Likes', 'Sales', 'Reviewing rate']"
            ]
          },
          "metadata": {},
          "execution_count": 216
        }
      ]
    },
    {
      "cell_type": "code",
      "source": [
        "from pyspark.ml.feature import VectorAssembler\n",
        "featureassembler=VectorAssembler(inputCols=[\"Likes\",\"Reviewing rate\"],outputCol=\"Independent Features\")"
      ],
      "metadata": {
        "id": "d7TfESEpjNc_"
      },
      "execution_count": null,
      "outputs": []
    },
    {
      "cell_type": "code",
      "source": [
        "output=featureassembler.transform(training)\n",
        "output.show()"
      ],
      "metadata": {
        "colab": {
          "base_uri": "https://localhost:8080/"
        },
        "id": "hC8gn3xljafy",
        "outputId": "3bda8b1d-1f50-4341-8e7c-491dc8a82343"
      },
      "execution_count": null,
      "outputs": [
        {
          "output_type": "stream",
          "name": "stdout",
          "text": [
            "+--------------------+-------------------+-----+--------+--------------+--------------------+\n",
            "|            category|          date_time|Likes|   Sales|Reviewing rate|Independent Features|\n",
            "+--------------------+-------------------+-----+--------+--------------+--------------------+\n",
            "|        Bất động sản|2025-08-18 16:55:52| 56.0| 87288.0|           1.0|          [56.0,1.0]|\n",
            "|Thị trường chứng ...|2025-08-29 07:42:52| 56.0| 85644.0|           1.0|          [56.0,1.0]|\n",
            "|        Bất động sản|2025-08-15 00:04:52|282.0|402488.0|           5.0|         [282.0,5.0]|\n",
            "|        Doanh nghiệp|2025-08-28 01:08:52|225.0|315948.0|           4.0|         [225.0,4.0]|\n",
            "|Thị trường chứng ...|2025-08-28 07:18:52|169.0|244054.0|           3.0|         [169.0,3.0]|\n",
            "|Kinh tế vĩ mô - Đ...|2025-09-05 02:55:52| 56.0| 90026.0|           1.0|          [56.0,1.0]|\n",
            "|        Doanh nghiệp|2025-08-17 04:47:52|281.0|399848.0|           5.0|         [281.0,5.0]|\n",
            "|Kinh tế vĩ mô - Đ...|2025-08-14 23:25:52|169.0|237773.0|           3.0|         [169.0,3.0]|\n",
            "|Thị trường chứng ...|2025-08-29 20:23:52|338.0|471110.0|           6.0|         [338.0,6.0]|\n",
            "|Thị trường chứng ...|2025-08-20 22:51:52|338.0|477589.0|           6.0|         [338.0,6.0]|\n",
            "+--------------------+-------------------+-----+--------+--------------+--------------------+\n",
            "\n"
          ]
        }
      ]
    },
    {
      "cell_type": "code",
      "source": [
        "finalized_data=output.select(\"Independent Features\",\"Sales\")\n",
        "finalized_data.show()"
      ],
      "metadata": {
        "colab": {
          "base_uri": "https://localhost:8080/"
        },
        "id": "n2SCqVNPjhiD",
        "outputId": "62676955-9210-4391-ede2-0bfa4bd33855"
      },
      "execution_count": null,
      "outputs": [
        {
          "output_type": "stream",
          "name": "stdout",
          "text": [
            "+--------------------+--------+\n",
            "|Independent Features|   Sales|\n",
            "+--------------------+--------+\n",
            "|          [56.0,1.0]| 87288.0|\n",
            "|          [56.0,1.0]| 85644.0|\n",
            "|         [282.0,5.0]|402488.0|\n",
            "|         [225.0,4.0]|315948.0|\n",
            "|         [169.0,3.0]|244054.0|\n",
            "|          [56.0,1.0]| 90026.0|\n",
            "|         [281.0,5.0]|399848.0|\n",
            "|         [169.0,3.0]|237773.0|\n",
            "|         [338.0,6.0]|471110.0|\n",
            "|         [338.0,6.0]|477589.0|\n",
            "+--------------------+--------+\n",
            "\n"
          ]
        }
      ]
    },
    {
      "cell_type": "code",
      "source": [
        "from pyspark.ml.regression import LinearRegression\n",
        "train_data,test_data=finalized_data.randomSplit([0.75,0.25])\n",
        "regressor=LinearRegression(featuresCol='Independent Features', labelCol='Sales')\n",
        "regressor=regressor.fit(train_data)"
      ],
      "metadata": {
        "id": "IdklLvwSjzxZ"
      },
      "execution_count": null,
      "outputs": []
    },
    {
      "cell_type": "code",
      "source": [
        "regressor.coefficients"
      ],
      "metadata": {
        "colab": {
          "base_uri": "https://localhost:8080/"
        },
        "id": "RhxACbarkeGg",
        "outputId": "5313e7e7-9c7b-4f02-b5e1-1aed8262f68b"
      },
      "execution_count": null,
      "outputs": [
        {
          "output_type": "execute_result",
          "data": {
            "text/plain": [
              "DenseVector([-3787.0, 290879.0])"
            ]
          },
          "metadata": {},
          "execution_count": 226
        }
      ]
    },
    {
      "cell_type": "code",
      "source": [
        "regressor.intercept"
      ],
      "metadata": {
        "colab": {
          "base_uri": "https://localhost:8080/"
        },
        "id": "6raZ2hmQkiIp",
        "outputId": "85b35c10-52b4-4bfa-9792-a0bd641ba050"
      },
      "execution_count": null,
      "outputs": [
        {
          "output_type": "execute_result",
          "data": {
            "text/plain": [
              "8373.999999748892"
            ]
          },
          "metadata": {},
          "execution_count": 227
        }
      ]
    },
    {
      "cell_type": "code",
      "source": [
        "pred_results=regressor.evaluate(test_data)\n",
        "pred_results.predictions.show()"
      ],
      "metadata": {
        "colab": {
          "base_uri": "https://localhost:8080/"
        },
        "id": "bzK5eQikkmBc",
        "outputId": "2762eba2-a245-4f61-f59e-9908e9e98ba0"
      },
      "execution_count": null,
      "outputs": [
        {
          "output_type": "stream",
          "name": "stdout",
          "text": [
            "+--------------------+--------+-----------------+\n",
            "|Independent Features|   Sales|       prediction|\n",
            "+--------------------+--------+-----------------+\n",
            "|         [282.0,5.0]|402488.0|394834.9999996037|\n",
            "+--------------------+--------+-----------------+\n",
            "\n"
          ]
        }
      ]
    },
    {
      "cell_type": "code",
      "source": [
        "pred_results.meanAbsoluteError,pred_results.meanSquaredError"
      ],
      "metadata": {
        "colab": {
          "base_uri": "https://localhost:8080/"
        },
        "id": "gC2GrgI6kv9e",
        "outputId": "e02f4caa-6474-4832-c04d-8f46d1b56367"
      },
      "execution_count": null,
      "outputs": [
        {
          "output_type": "execute_result",
          "data": {
            "text/plain": [
              "(7653.000000396278, 58568409.00606543)"
            ]
          },
          "metadata": {},
          "execution_count": 229
        }
      ]
    },
    {
      "cell_type": "code",
      "source": [],
      "metadata": {
        "id": "5ZgRwktGlTfS"
      },
      "execution_count": null,
      "outputs": []
    }
  ]
}